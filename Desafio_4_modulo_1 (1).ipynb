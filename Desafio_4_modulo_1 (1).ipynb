{
 "cells": [
  {
   "cell_type": "code",
   "execution_count": 10,
   "id": "41935478-dcb3-4ee7-a80f-f66db5369030",
   "metadata": {},
   "outputs": [
    {
     "data": {
      "text/html": [
       "<div>\n",
       "<style scoped>\n",
       "    .dataframe tbody tr th:only-of-type {\n",
       "        vertical-align: middle;\n",
       "    }\n",
       "\n",
       "    .dataframe tbody tr th {\n",
       "        vertical-align: top;\n",
       "    }\n",
       "\n",
       "    .dataframe thead th {\n",
       "        text-align: right;\n",
       "    }\n",
       "</style>\n",
       "<table border=\"1\" class=\"dataframe\">\n",
       "  <thead>\n",
       "    <tr style=\"text-align: right;\">\n",
       "      <th></th>\n",
       "      <th>Data</th>\n",
       "      <th>Tempo</th>\n",
       "      <th>Grupo1</th>\n",
       "      <th>Grupo2</th>\n",
       "      <th>Grupo3</th>\n",
       "      <th>Unnamed: 6</th>\n",
       "    </tr>\n",
       "  </thead>\n",
       "  <tbody>\n",
       "    <tr>\n",
       "      <th>0</th>\n",
       "      <td>2019-11-24</td>\n",
       "      <td>00:00:00</td>\n",
       "      <td>0</td>\n",
       "      <td>2</td>\n",
       "      <td>0</td>\n",
       "      <td>NaN</td>\n",
       "    </tr>\n",
       "    <tr>\n",
       "      <th>1</th>\n",
       "      <td>2019-11-24</td>\n",
       "      <td>00:01:00</td>\n",
       "      <td>0</td>\n",
       "      <td>1</td>\n",
       "      <td>0</td>\n",
       "      <td>NaN</td>\n",
       "    </tr>\n",
       "    <tr>\n",
       "      <th>2</th>\n",
       "      <td>2019-11-24</td>\n",
       "      <td>00:02:00</td>\n",
       "      <td>0</td>\n",
       "      <td>2</td>\n",
       "      <td>0</td>\n",
       "      <td>NaN</td>\n",
       "    </tr>\n",
       "    <tr>\n",
       "      <th>3</th>\n",
       "      <td>2019-11-24</td>\n",
       "      <td>00:03:00</td>\n",
       "      <td>0</td>\n",
       "      <td>1</td>\n",
       "      <td>0</td>\n",
       "      <td>NaN</td>\n",
       "    </tr>\n",
       "    <tr>\n",
       "      <th>4</th>\n",
       "      <td>2019-11-24</td>\n",
       "      <td>00:04:00</td>\n",
       "      <td>0</td>\n",
       "      <td>1</td>\n",
       "      <td>0</td>\n",
       "      <td>NaN</td>\n",
       "    </tr>\n",
       "  </tbody>\n",
       "</table>\n",
       "</div>"
      ],
      "text/plain": [
       "         Data     Tempo  Grupo1  Grupo2  Grupo3 Unnamed: 6\n",
       "0  2019-11-24  00:00:00       0       2       0        NaN\n",
       "1  2019-11-24  00:01:00       0       1       0        NaN\n",
       "2  2019-11-24  00:02:00       0       2       0        NaN\n",
       "3  2019-11-24  00:03:00       0       1       0        NaN\n",
       "4  2019-11-24  00:04:00       0       1       0        NaN"
      ]
     },
     "execution_count": 10,
     "metadata": {},
     "output_type": "execute_result"
    }
   ],
   "source": [
    "import pandas as pd\n",
    "dados = pd.read_excel('65561consumo.xlsx')\n",
    "dados = dados.dropna(axis=1, how='all')\n",
    "dados.head()"
   ]
  },
  {
   "cell_type": "code",
   "execution_count": 2,
   "id": "44055b0f-e45f-4411-bcaa-ed1af3a2421e",
   "metadata": {},
   "outputs": [
    {
     "name": "stdout",
     "output_type": "stream",
     "text": [
      "2880\n"
     ]
    }
   ],
   "source": [
    "print(len(dados))"
   ]
  },
  {
   "cell_type": "code",
   "execution_count": 26,
   "id": "8900e36a-aa3d-4337-a6f5-d586bf81b9ee",
   "metadata": {},
   "outputs": [
    {
     "name": "stdout",
     "output_type": "stream",
     "text": [
      "Grupo 1\n",
      "Média 0.7541666666666667\n",
      "Moda 0    0\n",
      "Name: Grupo1, dtype: int64\n",
      "Mediana 0.0\n",
      "1° Quartil 0.0\n",
      "3° Quartil 0.0\n",
      " \n",
      "Grupo 2\n",
      "Média 1.1368055555555556\n",
      "Moda 0    0\n",
      "Name: Grupo2, dtype: int64\n",
      "Mediana 0.0\n",
      "1° Quartil 0.0\n",
      "3° Quartil 1.0\n",
      " \n",
      "Grupo 3\n",
      "Média 6.0055555555555555\n",
      "Moda 0    0\n",
      "Name: Grupo3, dtype: int64\n",
      "Mediana 0.0\n",
      "1° Quartil 0.0\n",
      "3° Quartil 17.0\n"
     ]
    }
   ],
   "source": [
    "# Grupo 1\n",
    "print ('Grupo 1')\n",
    "print ('Média', dados['Grupo1'].mean())\n",
    "print ('Moda', dados['Grupo1'].mode())\n",
    "print ('Mediana', dados['Grupo1'].median())\n",
    "print ('1° Quartil', dados['Grupo1'].quantile(0.25))\n",
    "print ('3° Quartil', dados['Grupo1'].quantile(0.75))\n",
    "#\n",
    "# Grupo 2\n",
    "print (' ')\n",
    "print ('Grupo 2')\n",
    "print ('Média', dados['Grupo2'].mean())\n",
    "print ('Moda', dados['Grupo2'].mode())\n",
    "print ('Mediana', dados['Grupo2'].median())\n",
    "print ('1° Quartil', dados['Grupo2'].quantile(0.25))\n",
    "print ('3° Quartil', dados['Grupo2'].quantile(0.75))\n",
    "#\n",
    "# Grupo 3\n",
    "print (' ')\n",
    "print ('Grupo 3')\n",
    "print ('Média', dados['Grupo3'].mean())\n",
    "print ('Moda', dados['Grupo3'].mode())\n",
    "print ('Mediana', dados['Grupo3'].median())\n",
    "print ('1° Quartil', dados['Grupo3'].quantile(0.25))\n",
    "print ('3° Quartil', dados['Grupo3'].quantile(0.75))\n"
   ]
  },
  {
   "cell_type": "code",
   "execution_count": 54,
   "id": "f92214f5-aabb-444a-99c6-625e3b61c472",
   "metadata": {},
   "outputs": [
    {
     "name": "stdout",
     "output_type": "stream",
     "text": [
      "Grupo 1\n",
      "Amplitude: 38\n",
      "Variância: 24.10765890934287\n",
      "Desvio Padrão: 4.909955082212348\n",
      "Coeficiente de Variação: 6.5104376780716215\n",
      " \n",
      "Grupo 2\n",
      "Amplitude2: 40\n",
      "Variância2: 26.696803963568993\n",
      "Desvio Padrão2: 5.1668950021815805\n",
      "Coeficiente de Variação2: 4.545100063006399\n",
      " \n",
      "Grupo 3\n",
      "Amplitude3: 19\n",
      "Variância3: 69.38517232063498\n",
      "Desvio Padrão3: 8.32977624673286\n",
      "Coeficiente de Variação3: 1.3870117709638436\n",
      "\n",
      "Dois números depois do (.)\n",
      "Amplitude3: 19.00\n",
      "Variância3: 69.39\n",
      "Desvio Padrão3: 8.33\n",
      "Coeficiente de Variação3: 1.39\n"
     ]
    }
   ],
   "source": [
    "# Dispersão\n",
    "import numpy as np\n",
    "coluna = dados['Grupo1']\n",
    "# Amplitute (máximo - mínimo)\n",
    "amplitude = coluna.max() - coluna.min()\n",
    "# Variância\n",
    "variancia = coluna.var() # Por padrão, é amostral ddof=1\n",
    "# Desvio padrão\n",
    "desvio_padrao = coluna.std() # Também é amostral\n",
    "# Coeficiente de variação (CV = devio padrão / média)\n",
    "media = coluna.mean()\n",
    "coef_var = desvio_padrao / media if media != 0 else np.nan\n",
    "# Mostrar resultados\n",
    "print('Grupo 1')\n",
    "print(\"Amplitude:\", amplitude)\n",
    "print(\"Variância:\", variancia)\n",
    "print(\"Desvio Padrão:\", desvio_padrao)\n",
    "print(\"Coeficiente de Variação:\", coef_var)\n",
    "#\n",
    "#\n",
    "# Grupo 2\n",
    "coluna2 = dados['Grupo2']\n",
    "# Amplitute (máximo - mínimo)\n",
    "amplitude2 = coluna2.max() - coluna2.min()\n",
    "# Variância\n",
    "variancia2 = coluna2.var() # Por padrão, é amostral ddof=1\n",
    "# Desvio padrão\n",
    "desvio_padrao2 = coluna2.std() # Também é amostral\n",
    "# Coeficiente de variação (CV = devio padrão / média)\n",
    "media2 = coluna2.mean()\n",
    "coef_var2 = desvio_padrao2 / media2 if media2 != 0 else np.nan\n",
    "# Mostrar resultados\n",
    "print(' ')\n",
    "print('Grupo 2')\n",
    "print(\"Amplitude2:\", amplitude2)\n",
    "print(\"Variância2:\", variancia2)\n",
    "print(\"Desvio Padrão2:\", desvio_padrao2)\n",
    "print(\"Coeficiente de Variação2:\", coef_var2)\n",
    "#\n",
    "#\n",
    "# Grupo 3\n",
    "coluna3 = dados['Grupo3']\n",
    "# Amplitute (máximo - mínimo)\n",
    "amplitude3 = coluna3.max() - coluna3.min()\n",
    "# Variância\n",
    "variancia3 = coluna3.var() # Por padrão, é amostral ddof=1\n",
    "# Desvio padrão\n",
    "desvio_padrao3 = coluna3.std() # Também é amostral\n",
    "# Coeficiente de variação (CV = devio padrão / média)\n",
    "media3 = coluna3.mean()\n",
    "coef_var3 = desvio_padrao3 / media3 if media3 != 0 else np.nan\n",
    "# Mostrar resultados\n",
    "print(' ')\n",
    "print('Grupo 3')\n",
    "print(\"Amplitude3:\", amplitude3)\n",
    "print(\"Variância3:\", variancia3)\n",
    "print(\"Desvio Padrão3:\", desvio_padrao3)\n",
    "print(\"Coeficiente de Variação3:\", coef_var3)\n",
    "# Mostrar resultados com 2 casas decimais\n",
    "print('\\nDois números depois do (.)')\n",
    "print(f\"Amplitude3: {amplitude3:.2f}\")\n",
    "print(f\"Variância3: {variancia3:.2f}\")\n",
    "print(f\"Desvio Padrão3: {desvio_padrao3:.2f}\")\n",
    "print(f\"Coeficiente de Variação3: {coef_var3:.2f}\")"
   ]
  },
  {
   "cell_type": "code",
   "execution_count": 50,
   "id": "f9bb7355-509d-4031-a4ae-b3f3b621ee6f",
   "metadata": {},
   "outputs": [
    {
     "name": "stdout",
     "output_type": "stream",
     "text": [
      "Grupo1\n",
      "count    2880.000000\n",
      "mean        0.754167\n",
      "std         4.909955\n",
      "min         0.000000\n",
      "25%         0.000000\n",
      "50%         0.000000\n",
      "75%         0.000000\n",
      "max        38.000000\n",
      "Name: Grupo1, dtype: float64\n",
      " \n",
      "Grupo2\n",
      "count    2880.000000\n",
      "mean        1.136806\n",
      "std         5.166895\n",
      "min         0.000000\n",
      "25%         0.000000\n",
      "50%         0.000000\n",
      "75%         1.000000\n",
      "max        40.000000\n",
      "Name: Grupo2, dtype: float64\n",
      " \n",
      "Grupo3\n",
      "count    2880.000000\n",
      "mean        6.005556\n",
      "std         8.329776\n",
      "min         0.000000\n",
      "25%         0.000000\n",
      "50%         0.000000\n",
      "75%        17.000000\n",
      "max        19.000000\n",
      "Name: Grupo3, dtype: float64\n",
      " \n",
      "count: 2880.00\n",
      "mean: 1.14\n",
      "std: 5.17\n",
      "min: 0.00\n",
      "25%: 0.00\n",
      "50%: 0.00\n",
      "75%: 1.00\n",
      "max: 40.00\n"
     ]
    }
   ],
   "source": [
    "print('Grupo1')\n",
    "print(dados['Grupo1'].describe())\n",
    "#\n",
    "print(' ')\n",
    "print('Grupo2')\n",
    "print(dados['Grupo2'].describe())\n",
    "#\n",
    "print(' ')\n",
    "print('Grupo3')\n",
    "print(dados['Grupo3'].describe())\n",
    "#\n",
    "print(' ')\n",
    "## Para se fazer com somente duas casas:\n",
    "desc = dados['Grupo2'].describe()\n",
    "for stat, value in desc.items():\n",
    "    print(f\"{stat}: {value:.2f}\")"
   ]
  },
  {
   "cell_type": "code",
   "execution_count": 35,
   "id": "7e6f8024-5d31-4fcc-b95f-42fbd8334f4f",
   "metadata": {
    "editable": true,
    "slideshow": {
     "slide_type": ""
    },
    "tags": []
   },
   "outputs": [
    {
     "data": {
      "image/png": "[encoded data removed]",
      "text/plain": [
       "<Figure size 640x480 with 1 Axes>"
      ]
     },
     "metadata": {},
     "output_type": "display_data"
    }
   ],
   "source": [
    "import matplotlib.pyplot as plt\n",
    "## Soma total dos grupos\n",
    "totais = dados[['Grupo1', 'Grupo2', 'Grupo3']].sum()\n",
    "# Gráfico pizza\n",
    "plt.pie(totais, labels=totais.index, autopct='%1.1f%%', startangle=90)\n",
    "plt.title('Distribuição de Consumo por Grupo')\n",
    "plt.axis('equal') # Deixa a pizza redonda\n",
    "plt.show()"
   ]
  },
  {
   "cell_type": "code",
   "execution_count": 45,
   "id": "f14855b1-6bb3-4a86-a228-fea98694427d",
   "metadata": {},
   "outputs": [
    {
     "name": "stdout",
     "output_type": "stream",
     "text": [
      "Qual Grupo ficou mais tempo desligado?\n",
      "Grupo1\n",
      "92.22\n",
      "Grupo2\n",
      "71.35\n",
      "Grupo3\n",
      "65.59\n"
     ]
    }
   ],
   "source": [
    "print('Qual Grupo ficou mais tempo desligado?')\n",
    "print('Grupo1')\n",
    "print(f\"{(dados['Grupo1'] == 0).sum() / len(dados) * 100:.2f}\")\n",
    "#\n",
    "print('Grupo2')\n",
    "print(f\"{(dados['Grupo2'] == 0).sum() / len(dados) * 100:.2f}\")\n",
    "#\n",
    "print('Grupo3')\n",
    "print(f\"{(dados['Grupo3'] == 0).sum() / len(dados) * 100:.2f}\")"
   ]
  },
  {
   "cell_type": "code",
   "execution_count": null,
   "id": "8791f663-0c77-4963-93d5-2480c8164585",
   "metadata": {},
   "outputs": [],
   "source": []
  },
  {
   "cell_type": "code",
   "execution_count": null,
   "id": "9ce51edd-09d1-4f26-bf29-65ea114b401c",
   "metadata": {},
   "outputs": [],
   "source": []
  }
 ],
 "metadata": {
  "kernelspec": {
   "display_name": "anaconda-2024.02-py310",
   "language": "python",
   "name": "conda-env-anaconda-2024.02-py310-py"
  },
  "language_info": {
   "codemirror_mode": {
    "name": "ipython",
    "version": 3
   },
   "file_extension": ".py",
   "mimetype": "text/x-python",
   "name": "python",
   "nbconvert_exporter": "python",
   "pygments_lexer": "ipython3",
   "version": "3.10.14"
  }
 },
 "nbformat": 4,
 "nbformat_minor": 5
}
